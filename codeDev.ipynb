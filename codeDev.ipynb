{
 "cells": [
  {
   "cell_type": "code",
   "execution_count": 1,
   "metadata": {},
   "outputs": [],
   "source": [
    "import os"
   ]
  },
  {
   "cell_type": "code",
   "execution_count": 2,
   "metadata": {},
   "outputs": [
    {
     "data": {
      "text/plain": [
       "'e:\\\\LFS\\\\Projects\\\\Python\\\\App\\\\FileFolderStructureGenerator'"
      ]
     },
     "execution_count": 2,
     "metadata": {},
     "output_type": "execute_result"
    }
   ],
   "source": [
    "current_dir = os.getcwd()\n",
    "current_dir"
   ]
  },
  {
   "cell_type": "code",
   "execution_count": 3,
   "metadata": {},
   "outputs": [
    {
     "data": {
      "text/plain": [
       "['.git', 'codeDev.ipynb', 'main.py']"
      ]
     },
     "execution_count": 3,
     "metadata": {},
     "output_type": "execute_result"
    }
   ],
   "source": [
    "current_files = os.listdir()\n",
    "current_files"
   ]
  },
  {
   "cell_type": "code",
   "execution_count": 4,
   "metadata": {},
   "outputs": [],
   "source": [
    "# folder name\n",
    "channel_name_folder = \"ConceptDemystifier\"\n",
    "website_name_folder = \"Youtube\"\n",
    "course_title_folder = \"demo_course_title\"\n",
    "\n",
    "# file info\n",
    "course_title_info = \"demo_course_title\"\n",
    "publish_date_info = \"17th June 2023\"\n",
    "update_date_info = \"5th August 2023\"\n",
    "course_link_info = \"https://www.youtube.com/@byteacademy2611/playlists\"\n",
    "comment_info = \"\"\n",
    "\n",
    "# default file names\n",
    "DEFAULT_STATUS_FILENAME = \"Status_NotCompleted\"\n",
    "DEFAULT_METADATA_FILENAME = \"metadata.txt\"\n",
    "DEFAULT_NOTES_FILENAME = \"notes.docx\"\n",
    "DEFAULT_CONTENT_FILENAME = \"courseContent.txt\"\n",
    "\n",
    "# default folder names\n",
    "DEFAULT_REF_DIRNAME = \"Reference\"\n",
    "DEFAULT_SESSIONS_DIRNAME = \"Sessions\"\n",
    "DEFAULT_SESSION_DIRNAME = \"Ses_1\""
   ]
  },
  {
   "cell_type": "code",
   "execution_count": 5,
   "metadata": {},
   "outputs": [],
   "source": [
    "full_name = f\"{channel_name_folder}_{website_name_folder}\"\n",
    "os.mkdir(full_name)"
   ]
  },
  {
   "cell_type": "code",
   "execution_count": 6,
   "metadata": {},
   "outputs": [],
   "source": [
    "os.chdir(f\"{current_dir}\\\\{full_name}\")\n",
    "os.mkdir(course_title_folder)"
   ]
  },
  {
   "cell_type": "code",
   "execution_count": 7,
   "metadata": {},
   "outputs": [],
   "source": [
    "os.chdir(f\"{current_dir}\\\\{full_name}\\\\{course_title_folder}\")\n",
    "os.mkdir(DEFAULT_REF_DIRNAME)\n",
    "os.mkdir(DEFAULT_SESSIONS_DIRNAME)\n",
    "\n",
    "metadata_file_template = f'''\n",
    "Course Name: {course_title_info}\n",
    "Channel Name: {channel_name_folder}\n",
    "Course Publish Date: {publish_date_info}\n",
    "Course Last Update: {update_date_info}\n",
    "Course Link: {course_link_info}\n",
    "\n",
    "Comment: {comment_info}\n",
    "'''\n",
    "\n",
    "f1 = open(DEFAULT_METADATA_FILENAME,\"w\")\n",
    "f1.write(metadata_file_template)\n",
    "f1.close()\n",
    "\n",
    "f2 = open(DEFAULT_STATUS_FILENAME,\"x\")\n",
    "f2.close()"
   ]
  },
  {
   "cell_type": "code",
   "execution_count": 8,
   "metadata": {},
   "outputs": [],
   "source": [
    "os.chdir(f\"{current_dir}\\\\{full_name}\\\\{course_title_folder}\\\\{DEFAULT_SESSIONS_DIRNAME}\")\n",
    "os.mkdir(DEFAULT_SESSION_DIRNAME)\n",
    "\n",
    "f3 = open(DEFAULT_CONTENT_FILENAME,\"x\")\n",
    "f3.close()\n",
    "\n",
    "f4 = open(DEFAULT_NOTES_FILENAME,\"x\")\n",
    "f4.close()"
   ]
  }
 ],
 "metadata": {
  "kernelspec": {
   "display_name": "Python 3",
   "language": "python",
   "name": "python3"
  },
  "language_info": {
   "codemirror_mode": {
    "name": "ipython",
    "version": 3
   },
   "file_extension": ".py",
   "mimetype": "text/x-python",
   "name": "python",
   "nbconvert_exporter": "python",
   "pygments_lexer": "ipython3",
   "version": "3.10.11"
  },
  "orig_nbformat": 4
 },
 "nbformat": 4,
 "nbformat_minor": 2
}
